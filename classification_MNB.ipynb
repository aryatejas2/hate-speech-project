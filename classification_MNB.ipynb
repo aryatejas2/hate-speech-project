{
 "cells": [
  {
   "cell_type": "code",
   "execution_count": 49,
   "metadata": {},
   "outputs": [],
   "source": [
    "import pandas as pd\n",
    "import numpy as np\n",
    "import re\n",
    "import nltk"
   ]
  },
  {
   "cell_type": "code",
   "execution_count": 50,
   "metadata": {},
   "outputs": [],
   "source": [
    "train  = pd.read_csv(r'C:\\Users\\Tejas\\Desktop\\Capstone\\DatasetsCleaned\\LeaveOneOut\\leave_trac.csv')\n",
    "test = pd.read_csv(r'C:\\Users\\Tejas\\Desktop\\Capstone\\DatasetsCleaned\\UniformClasses\\Clean\\trac.csv')"
   ]
  },
  {
   "cell_type": "code",
   "execution_count": 51,
   "metadata": {},
   "outputs": [],
   "source": [
    "train.dropna(inplace=True)\n",
    "# indices_to_keep_train = ~train.isin([np.nan, np.inf, -np.inf]).any(1)\n",
    "# train = train[indices_to_keep_train].astype(np.float64)"
   ]
  },
  {
   "cell_type": "code",
   "execution_count": 52,
   "metadata": {},
   "outputs": [],
   "source": [
    "test.dropna(inplace=True)\n",
    "# indices_to_keep_test = ~test.isin([np.nan, np.inf, -np.inf]).any(1)\n",
    "# test = test[indices_to_keep_test].astype(np.float64)"
   ]
  },
  {
   "cell_type": "code",
   "execution_count": 53,
   "metadata": {},
   "outputs": [
    {
     "data": {
      "text/html": [
       "<div>\n",
       "<style scoped>\n",
       "    .dataframe tbody tr th:only-of-type {\n",
       "        vertical-align: middle;\n",
       "    }\n",
       "\n",
       "    .dataframe tbody tr th {\n",
       "        vertical-align: top;\n",
       "    }\n",
       "\n",
       "    .dataframe thead th {\n",
       "        text-align: right;\n",
       "    }\n",
       "</style>\n",
       "<table border=\"1\" class=\"dataframe\">\n",
       "  <thead>\n",
       "    <tr style=\"text-align: right;\">\n",
       "      <th></th>\n",
       "      <th>Text</th>\n",
       "      <th>Class</th>\n",
       "    </tr>\n",
       "  </thead>\n",
       "  <tbody>\n",
       "    <tr>\n",
       "      <th>0</th>\n",
       "      <td>rt mayasolov woman shouldnt complain clean ho...</td>\n",
       "      <td>NOT</td>\n",
       "    </tr>\n",
       "    <tr>\n",
       "      <th>1</th>\n",
       "      <td>rt  boy dat coldtyga dwn bad cuffin dat hoe  ...</td>\n",
       "      <td>OFF</td>\n",
       "    </tr>\n",
       "    <tr>\n",
       "      <th>2</th>\n",
       "      <td>rt urkindofbrand dawg rt  ever fuck bitch sta...</td>\n",
       "      <td>OFF</td>\n",
       "    </tr>\n",
       "    <tr>\n",
       "      <th>3</th>\n",
       "      <td>rt cganderson vivabas look like tranni</td>\n",
       "      <td>OFF</td>\n",
       "    </tr>\n",
       "    <tr>\n",
       "      <th>4</th>\n",
       "      <td>rt shenikarobert shit hear might true might f...</td>\n",
       "      <td>OFF</td>\n",
       "    </tr>\n",
       "    <tr>\n",
       "      <th>...</th>\n",
       "      <td>...</td>\n",
       "      <td>...</td>\n",
       "    </tr>\n",
       "    <tr>\n",
       "      <th>265226</th>\n",
       "      <td>second time ask view complet contradict covera...</td>\n",
       "      <td>NOT</td>\n",
       "    </tr>\n",
       "    <tr>\n",
       "      <th>265227</th>\n",
       "      <td>asham horribl thing put talk page</td>\n",
       "      <td>NOT</td>\n",
       "    </tr>\n",
       "    <tr>\n",
       "      <th>265228</th>\n",
       "      <td>spitzer umm there actual articl prostitut ring...</td>\n",
       "      <td>NOT</td>\n",
       "    </tr>\n",
       "    <tr>\n",
       "      <th>265229</th>\n",
       "      <td>look like actual put speedi first version dele...</td>\n",
       "      <td>NOT</td>\n",
       "    </tr>\n",
       "    <tr>\n",
       "      <th>265230</th>\n",
       "      <td>realli dont think understand  came idea bad r...</td>\n",
       "      <td>NOT</td>\n",
       "    </tr>\n",
       "  </tbody>\n",
       "</table>\n",
       "<p>261473 rows × 2 columns</p>\n",
       "</div>"
      ],
      "text/plain": [
       "                                                     Text Class\n",
       "0        rt mayasolov woman shouldnt complain clean ho...   NOT\n",
       "1        rt  boy dat coldtyga dwn bad cuffin dat hoe  ...   OFF\n",
       "2        rt urkindofbrand dawg rt  ever fuck bitch sta...   OFF\n",
       "3                  rt cganderson vivabas look like tranni   OFF\n",
       "4        rt shenikarobert shit hear might true might f...   OFF\n",
       "...                                                   ...   ...\n",
       "265226  second time ask view complet contradict covera...   NOT\n",
       "265227                asham horribl thing put talk page     NOT\n",
       "265228  spitzer umm there actual articl prostitut ring...   NOT\n",
       "265229  look like actual put speedi first version dele...   NOT\n",
       "265230   realli dont think understand  came idea bad r...   NOT\n",
       "\n",
       "[261473 rows x 2 columns]"
      ]
     },
     "execution_count": 53,
     "metadata": {},
     "output_type": "execute_result"
    }
   ],
   "source": [
    "train = train[['Text','Class']]\n",
    "train"
   ]
  },
  {
   "cell_type": "code",
   "execution_count": 54,
   "metadata": {},
   "outputs": [
    {
     "name": "stderr",
     "output_type": "stream",
     "text": [
      "c:\\Users\\Tejas\\Desktop\\Capstone\\hate-speech-project\\hsp\\lib\\site-packages\\seaborn\\_decorators.py:36: FutureWarning: Pass the following variable as a keyword arg: x. From version 0.12, the only valid positional argument will be `data`, and passing other arguments without an explicit keyword will result in an error or misinterpretation.\n",
      "  warnings.warn(\n"
     ]
    },
    {
     "data": {
      "text/plain": [
       "<AxesSubplot:xlabel='Class', ylabel='count'>"
      ]
     },
     "execution_count": 54,
     "metadata": {},
     "output_type": "execute_result"
    },
    {
     "data": {
      "image/png": "[encoded data removed]",
      "text/plain": [
       "<Figure size 432x288 with 1 Axes>"
      ]
     },
     "metadata": {
      "needs_background": "light"
     },
     "output_type": "display_data"
    }
   ],
   "source": [
    "import seaborn as sns\n",
    "sns.countplot('Class',data=train)"
   ]
  },
  {
   "cell_type": "code",
   "execution_count": 55,
   "metadata": {},
   "outputs": [
    {
     "data": {
      "text/html": [
       "<div>\n",
       "<style scoped>\n",
       "    .dataframe tbody tr th:only-of-type {\n",
       "        vertical-align: middle;\n",
       "    }\n",
       "\n",
       "    .dataframe tbody tr th {\n",
       "        vertical-align: top;\n",
       "    }\n",
       "\n",
       "    .dataframe thead th {\n",
       "        text-align: right;\n",
       "    }\n",
       "</style>\n",
       "<table border=\"1\" class=\"dataframe\">\n",
       "  <thead>\n",
       "    <tr style=\"text-align: right;\">\n",
       "      <th></th>\n",
       "      <th>Text</th>\n",
       "      <th>Class</th>\n",
       "    </tr>\n",
       "  </thead>\n",
       "  <tbody>\n",
       "    <tr>\n",
       "      <th>0</th>\n",
       "      <td>swear iâ€™m get place nick time itâ€™ exhaust ...</td>\n",
       "      <td>NOT</td>\n",
       "    </tr>\n",
       "    <tr>\n",
       "      <th>1</th>\n",
       "      <td>iâ€™m immigr â€” trump right immigr   give ins...</td>\n",
       "      <td>NOT</td>\n",
       "    </tr>\n",
       "    <tr>\n",
       "      <th>2</th>\n",
       "      <td>illegalimmigr illegalalien electoralsystem ele...</td>\n",
       "      <td>OFF</td>\n",
       "    </tr>\n",
       "    <tr>\n",
       "      <th>3</th>\n",
       "      <td>drudgereport invas issu mexican buildthatwal</td>\n",
       "      <td>OFF</td>\n",
       "    </tr>\n",
       "    <tr>\n",
       "      <th>4</th>\n",
       "      <td>worker charg sexual molest eight children immi...</td>\n",
       "      <td>NOT</td>\n",
       "    </tr>\n",
       "    <tr>\n",
       "      <th>...</th>\n",
       "      <td>...</td>\n",
       "      <td>...</td>\n",
       "    </tr>\n",
       "    <tr>\n",
       "      <th>3996</th>\n",
       "      <td>gaddaron se yahi sahi hain</td>\n",
       "      <td>NOT</td>\n",
       "    </tr>\n",
       "    <tr>\n",
       "      <th>3997</th>\n",
       "      <td>saw news read  comment smile   thought  must n...</td>\n",
       "      <td>OFF</td>\n",
       "    </tr>\n",
       "    <tr>\n",
       "      <th>3998</th>\n",
       "      <td>u guy crack joke cant take cridibl indian arm ...</td>\n",
       "      <td>OFF</td>\n",
       "    </tr>\n",
       "    <tr>\n",
       "      <th>3999</th>\n",
       "      <td>media fellow time dissect one social media pro...</td>\n",
       "      <td>OFF</td>\n",
       "    </tr>\n",
       "    <tr>\n",
       "      <th>4000</th>\n",
       "      <td>middl class suffer affect poor hope govt help ...</td>\n",
       "      <td>NOT</td>\n",
       "    </tr>\n",
       "  </tbody>\n",
       "</table>\n",
       "<p>3994 rows × 2 columns</p>\n",
       "</div>"
      ],
      "text/plain": [
       "                                                   Text Class\n",
       "0     swear iâ€™m get place nick time itâ€™ exhaust ...   NOT\n",
       "1     iâ€™m immigr â€” trump right immigr   give ins...   NOT\n",
       "2     illegalimmigr illegalalien electoralsystem ele...   OFF\n",
       "3          drudgereport invas issu mexican buildthatwal   OFF\n",
       "4     worker charg sexual molest eight children immi...   NOT\n",
       "...                                                 ...   ...\n",
       "3996                         gaddaron se yahi sahi hain   NOT\n",
       "3997  saw news read  comment smile   thought  must n...   OFF\n",
       "3998  u guy crack joke cant take cridibl indian arm ...   OFF\n",
       "3999  media fellow time dissect one social media pro...   OFF\n",
       "4000  middl class suffer affect poor hope govt help ...   NOT\n",
       "\n",
       "[3994 rows x 2 columns]"
      ]
     },
     "execution_count": 55,
     "metadata": {},
     "output_type": "execute_result"
    }
   ],
   "source": [
    "test = test[['Text','Class']]\n",
    "test"
   ]
  },
  {
   "cell_type": "code",
   "execution_count": 56,
   "metadata": {},
   "outputs": [
    {
     "name": "stderr",
     "output_type": "stream",
     "text": [
      "c:\\Users\\Tejas\\Desktop\\Capstone\\hate-speech-project\\hsp\\lib\\site-packages\\seaborn\\_decorators.py:36: FutureWarning: Pass the following variable as a keyword arg: x. From version 0.12, the only valid positional argument will be `data`, and passing other arguments without an explicit keyword will result in an error or misinterpretation.\n",
      "  warnings.warn(\n"
     ]
    },
    {
     "data": {
      "text/plain": [
       "<AxesSubplot:xlabel='Class', ylabel='count'>"
      ]
     },
     "execution_count": 56,
     "metadata": {},
     "output_type": "execute_result"
    },
    {
     "data": {
      "image/png": "[encoded data removed]",
      "text/plain": [
       "<Figure size 432x288 with 1 Axes>"
      ]
     },
     "metadata": {
      "needs_background": "light"
     },
     "output_type": "display_data"
    }
   ],
   "source": [
    "sns.countplot('Class',data=test)"
   ]
  },
  {
   "cell_type": "code",
   "execution_count": 57,
   "metadata": {},
   "outputs": [],
   "source": [
    "# text = data['Text']\n",
    "# label = data['Class']"
   ]
  },
  {
   "cell_type": "code",
   "execution_count": 58,
   "metadata": {},
   "outputs": [],
   "source": [
    "# from sklearn.model_selection import train_test_split\n",
    "\n",
    "# x_train, x_test, y_train, y_test = train_test_split(text, label, random_state=42)\n",
    "# print(len(x_train), len(y_train))\n",
    "# print(len(x_test), len(y_test))"
   ]
  },
  {
   "cell_type": "code",
   "execution_count": 59,
   "metadata": {},
   "outputs": [
    {
     "name": "stdout",
     "output_type": "stream",
     "text": [
      "261473 261473\n",
      "3994 3994\n"
     ]
    }
   ],
   "source": [
    "x_train = train['Text']\n",
    "y_train = train['Class']\n",
    "x_test = test['Text']\n",
    "y_test = test['Class']\n",
    "\n",
    "print(len(x_train), len(y_train))\n",
    "print(len(x_test), len(y_test))"
   ]
  },
  {
   "cell_type": "code",
   "execution_count": 60,
   "metadata": {},
   "outputs": [],
   "source": [
    "from sklearn.feature_extraction.text import CountVectorizer\n",
    "\n",
    "count = CountVectorizer()\n",
    "x_train_vectorizer=count.fit_transform((x_train).values.astype('str'))\n"
   ]
  },
  {
   "cell_type": "code",
   "execution_count": null,
   "metadata": {},
   "outputs": [],
   "source": [
    "x_test_vectorizer=count.transform(x_test.values.astype('str'))\n",
    "# x_train_vectorizer.toarray()"
   ]
  },
  {
   "cell_type": "code",
   "execution_count": null,
   "metadata": {},
   "outputs": [],
   "source": [
    "count.vocabulary_"
   ]
  },
  {
   "cell_type": "code",
   "execution_count": null,
   "metadata": {},
   "outputs": [],
   "source": [
    "from sklearn.feature_extraction.text import TfidfTransformer\n",
    "tfidf = TfidfTransformer()\n",
    "x_train_tfidf = tfidf.fit_transform(x_train_vectorizer)\n",
    "\n",
    "# x_train_tfidf.toarray()\n",
    "x_test_tfidf = tfidf.transform(x_test_vectorizer)"
   ]
  },
  {
   "cell_type": "code",
   "execution_count": null,
   "metadata": {},
   "outputs": [],
   "source": [
    "from sklearn.naive_bayes import MultinomialNB\n",
    "from sklearn.metrics import classification_report\n",
    "from sklearn.metrics import confusion_matrix"
   ]
  },
  {
   "cell_type": "code",
   "execution_count": null,
   "metadata": {},
   "outputs": [],
   "source": [
    "model_vectorizer= MultinomialNB().fit(x_train_vectorizer, y_train)\n",
    "prediction_vectorizer=model_vectorizer.predict(x_test_vectorizer)\n",
    "print(confusion_matrix(y_test,prediction_vectorizer))\n",
    "print (classification_report(y_test, prediction_vectorizer))"
   ]
  },
  {
   "cell_type": "code",
   "execution_count": null,
   "metadata": {},
   "outputs": [],
   "source": [
    "model_tfidf= MultinomialNB().fit(x_train_tfidf, y_train)\n",
    "prediction_tfidf=model_tfidf.predict(x_test_tfidf)\n",
    "print (classification_report(y_test, prediction_tfidf))\n",
    "print(confusion_matrix(y_test,prediction_tfidf))"
   ]
  }
 ],
 "metadata": {
  "interpreter": {
   "hash": "d4e9bb6295ff9e4931e9608a5097b50fffdac6915fea455a24d8ada659b972b3"
  },
  "kernelspec": {
   "display_name": "Python 3.9.6 64-bit ('hsp': venv)",
   "name": "python3"
  },
  "language_info": {
   "codemirror_mode": {
    "name": "ipython",
    "version": 3
   },
   "file_extension": ".py",
   "mimetype": "text/x-python",
   "name": "python",
   "nbconvert_exporter": "python",
   "pygments_lexer": "ipython3",
   "version": "3.9.6"
  },
  "orig_nbformat": 4
 },
 "nbformat": 4,
 "nbformat_minor": 2
}
