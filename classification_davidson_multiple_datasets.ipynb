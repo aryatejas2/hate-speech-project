{
 "cells": [
  {
   "cell_type": "code",
   "execution_count": 1,
   "source": [
    "import pandas as pd\r\n",
    "import numpy as np\r\n",
    "import re\r\n",
    "import nltk"
   ],
   "outputs": [],
   "metadata": {}
  },
  {
   "cell_type": "code",
   "execution_count": 25,
   "source": [
    "train  = pd.read_csv(r'C:\\Users\\Tejas\\Desktop\\Capstone\\DatasetsCleaned\\LeaveOneOut\\leave_reddit.csv')\r\n",
    "test = pd.read_csv(r'C:\\Users\\Tejas\\Desktop\\Capstone\\DatasetsCleaned\\UniformClasses\\Clean\\reddit.csv')"
   ],
   "outputs": [],
   "metadata": {}
  },
  {
   "cell_type": "code",
   "execution_count": 26,
   "source": [
    "train.dropna(inplace=True)\r\n",
    "# indices_to_keep_train = ~train.isin([np.nan, np.inf, -np.inf]).any(1)\r\n",
    "# train = train[indices_to_keep_train].astype(np.float64)"
   ],
   "outputs": [],
   "metadata": {}
  },
  {
   "cell_type": "code",
   "execution_count": 27,
   "source": [
    "test.dropna(inplace=True)\r\n",
    "# indices_to_keep_test = ~test.isin([np.nan, np.inf, -np.inf]).any(1)\r\n",
    "# test = test[indices_to_keep_test].astype(np.float64)"
   ],
   "outputs": [],
   "metadata": {}
  },
  {
   "cell_type": "code",
   "execution_count": 28,
   "source": [
    "train = train[['Text','Class']]\r\n",
    "train"
   ],
   "outputs": [
    {
     "output_type": "execute_result",
     "data": {
      "text/html": [
       "<div>\n",
       "<style scoped>\n",
       "    .dataframe tbody tr th:only-of-type {\n",
       "        vertical-align: middle;\n",
       "    }\n",
       "\n",
       "    .dataframe tbody tr th {\n",
       "        vertical-align: top;\n",
       "    }\n",
       "\n",
       "    .dataframe thead th {\n",
       "        text-align: right;\n",
       "    }\n",
       "</style>\n",
       "<table border=\"1\" class=\"dataframe\">\n",
       "  <thead>\n",
       "    <tr style=\"text-align: right;\">\n",
       "      <th></th>\n",
       "      <th>Text</th>\n",
       "      <th>Class</th>\n",
       "    </tr>\n",
       "  </thead>\n",
       "  <tbody>\n",
       "    <tr>\n",
       "      <th>0</th>\n",
       "      <td>rt mayasolov woman shouldnt complain clean ho...</td>\n",
       "      <td>NOT</td>\n",
       "    </tr>\n",
       "    <tr>\n",
       "      <th>1</th>\n",
       "      <td>rt  boy dat coldtyga dwn bad cuffin dat hoe  ...</td>\n",
       "      <td>OFF</td>\n",
       "    </tr>\n",
       "    <tr>\n",
       "      <th>2</th>\n",
       "      <td>rt urkindofbrand dawg rt  ever fuck bitch sta...</td>\n",
       "      <td>OFF</td>\n",
       "    </tr>\n",
       "    <tr>\n",
       "      <th>3</th>\n",
       "      <td>rt cganderson vivabas look like tranni</td>\n",
       "      <td>OFF</td>\n",
       "    </tr>\n",
       "    <tr>\n",
       "      <th>4</th>\n",
       "      <td>rt shenikarobert shit hear might true might f...</td>\n",
       "      <td>OFF</td>\n",
       "    </tr>\n",
       "    <tr>\n",
       "      <th>...</th>\n",
       "      <td>...</td>\n",
       "      <td>...</td>\n",
       "    </tr>\n",
       "    <tr>\n",
       "      <th>78758</th>\n",
       "      <td>\\t\\tim logic care heart love eisenhow gop hat...</td>\n",
       "      <td>NOT</td>\n",
       "    </tr>\n",
       "    <tr>\n",
       "      <th>78759</th>\n",
       "      <td>\\t\\t\\tye oper wetback effici remov illeg</td>\n",
       "      <td>NOT</td>\n",
       "    </tr>\n",
       "    <tr>\n",
       "      <th>78761</th>\n",
       "      <td>\\thalf nigger pig fuck globalist piec shit</td>\n",
       "      <td>NOT</td>\n",
       "    </tr>\n",
       "    <tr>\n",
       "      <th>78764</th>\n",
       "      <td>\\ti routin suspend say fuck ban call promin l...</td>\n",
       "      <td>NOT</td>\n",
       "    </tr>\n",
       "    <tr>\n",
       "      <th>78765</th>\n",
       "      <td>\\t\\tthey got drop cunt bomb lot</td>\n",
       "      <td>NOT</td>\n",
       "    </tr>\n",
       "  </tbody>\n",
       "</table>\n",
       "<p>76205 rows × 2 columns</p>\n",
       "</div>"
      ],
      "text/plain": [
       "                                                    Text Class\n",
       "0       rt mayasolov woman shouldnt complain clean ho...   NOT\n",
       "1       rt  boy dat coldtyga dwn bad cuffin dat hoe  ...   OFF\n",
       "2       rt urkindofbrand dawg rt  ever fuck bitch sta...   OFF\n",
       "3                 rt cganderson vivabas look like tranni   OFF\n",
       "4       rt shenikarobert shit hear might true might f...   OFF\n",
       "...                                                  ...   ...\n",
       "78758   \\t\\tim logic care heart love eisenhow gop hat...   NOT\n",
       "78759           \\t\\t\\tye oper wetback effici remov illeg   NOT\n",
       "78761        \\thalf nigger pig fuck globalist piec shit    NOT\n",
       "78764   \\ti routin suspend say fuck ban call promin l...   NOT\n",
       "78765                    \\t\\tthey got drop cunt bomb lot   NOT\n",
       "\n",
       "[76205 rows x 2 columns]"
      ]
     },
     "metadata": {},
     "execution_count": 28
    }
   ],
   "metadata": {}
  },
  {
   "cell_type": "code",
   "execution_count": 29,
   "source": [
    "import seaborn as sns\r\n",
    "sns.countplot('Class',data=train)"
   ],
   "outputs": [
    {
     "output_type": "stream",
     "name": "stderr",
     "text": [
      "c:\\Users\\Tejas\\Desktop\\Capstone\\hate-speech-project\\hsp\\lib\\site-packages\\seaborn\\_decorators.py:36: FutureWarning: Pass the following variable as a keyword arg: x. From version 0.12, the only valid positional argument will be `data`, and passing other arguments without an explicit keyword will result in an error or misinterpretation.\n",
      "  warnings.warn(\n"
     ]
    },
    {
     "output_type": "execute_result",
     "data": {
      "text/plain": [
       "<AxesSubplot:xlabel='Class', ylabel='count'>"
      ]
     },
     "metadata": {},
     "execution_count": 29
    },
    {
     "output_type": "display_data",
     "data": {
      "image/png": "[encoded data removed]",
      "text/plain": [
       "<Figure size 432x288 with 1 Axes>"
      ]
     },
     "metadata": {
      "needs_background": "light"
     }
    }
   ],
   "metadata": {}
  },
  {
   "cell_type": "code",
   "execution_count": 30,
   "source": [
    "test = test[['Text','Class']]\r\n",
    "test"
   ],
   "outputs": [
    {
     "output_type": "execute_result",
     "data": {
      "text/html": [
       "<div>\n",
       "<style scoped>\n",
       "    .dataframe tbody tr th:only-of-type {\n",
       "        vertical-align: middle;\n",
       "    }\n",
       "\n",
       "    .dataframe tbody tr th {\n",
       "        vertical-align: top;\n",
       "    }\n",
       "\n",
       "    .dataframe thead th {\n",
       "        text-align: right;\n",
       "    }\n",
       "</style>\n",
       "<table border=\"1\" class=\"dataframe\">\n",
       "  <thead>\n",
       "    <tr style=\"text-align: right;\">\n",
       "      <th></th>\n",
       "      <th>Text</th>\n",
       "      <th>Class</th>\n",
       "    </tr>\n",
       "  </thead>\n",
       "  <tbody>\n",
       "    <tr>\n",
       "      <th>0</th>\n",
       "      <td>yall hear sumn  mean live small town rn work...</td>\n",
       "      <td>OFF</td>\n",
       "    </tr>\n",
       "    <tr>\n",
       "      <th>1</th>\n",
       "      <td>japanes arent retard know fiction charact are...</td>\n",
       "      <td>OFF</td>\n",
       "    </tr>\n",
       "    <tr>\n",
       "      <th>2</th>\n",
       "      <td>fuck women get entitl attitud  deserv everyth...</td>\n",
       "      <td>OFF</td>\n",
       "    </tr>\n",
       "    <tr>\n",
       "      <th>3</th>\n",
       "      <td>listen word articl aka hit piec entir word wa...</td>\n",
       "      <td>OFF</td>\n",
       "    </tr>\n",
       "    <tr>\n",
       "      <th>4</th>\n",
       "      <td>hate see inexperienc cop work man love watch ...</td>\n",
       "      <td>NOT</td>\n",
       "    </tr>\n",
       "    <tr>\n",
       "      <th>...</th>\n",
       "      <td>...</td>\n",
       "      <td>...</td>\n",
       "    </tr>\n",
       "    <tr>\n",
       "      <th>11664</th>\n",
       "      <td>\\t\\tuntil day shit brother son father uncl ru...</td>\n",
       "      <td>NOT</td>\n",
       "    </tr>\n",
       "    <tr>\n",
       "      <th>11665</th>\n",
       "      <td>\\t\\t\\tshe wont  video evid shes crazi  yall n...</td>\n",
       "      <td>NOT</td>\n",
       "    </tr>\n",
       "    <tr>\n",
       "      <th>11666</th>\n",
       "      <td>\\t\\t\\t\\tno  wasnt video evid famili poor kid ...</td>\n",
       "      <td>NOT</td>\n",
       "    </tr>\n",
       "    <tr>\n",
       "      <th>11667</th>\n",
       "      <td>\\t\\t\\t\\twoman crazi women unit</td>\n",
       "      <td>NOT</td>\n",
       "    </tr>\n",
       "    <tr>\n",
       "      <th>11668</th>\n",
       "      <td>\\t\\tnobodi care woman attempt destroy life ch...</td>\n",
       "      <td>NOT</td>\n",
       "    </tr>\n",
       "  </tbody>\n",
       "</table>\n",
       "<p>10604 rows × 2 columns</p>\n",
       "</div>"
      ],
      "text/plain": [
       "                                                    Text Class\n",
       "0        yall hear sumn  mean live small town rn work...   OFF\n",
       "1       japanes arent retard know fiction charact are...   OFF\n",
       "2       fuck women get entitl attitud  deserv everyth...   OFF\n",
       "3       listen word articl aka hit piec entir word wa...   OFF\n",
       "4       hate see inexperienc cop work man love watch ...   NOT\n",
       "...                                                  ...   ...\n",
       "11664   \\t\\tuntil day shit brother son father uncl ru...   NOT\n",
       "11665   \\t\\t\\tshe wont  video evid shes crazi  yall n...   NOT\n",
       "11666   \\t\\t\\t\\tno  wasnt video evid famili poor kid ...   NOT\n",
       "11667                     \\t\\t\\t\\twoman crazi women unit   NOT\n",
       "11668   \\t\\tnobodi care woman attempt destroy life ch...   NOT\n",
       "\n",
       "[10604 rows x 2 columns]"
      ]
     },
     "metadata": {},
     "execution_count": 30
    }
   ],
   "metadata": {}
  },
  {
   "cell_type": "code",
   "execution_count": 31,
   "source": [
    "sns.countplot('Class',data=test)"
   ],
   "outputs": [
    {
     "output_type": "stream",
     "name": "stderr",
     "text": [
      "c:\\Users\\Tejas\\Desktop\\Capstone\\hate-speech-project\\hsp\\lib\\site-packages\\seaborn\\_decorators.py:36: FutureWarning: Pass the following variable as a keyword arg: x. From version 0.12, the only valid positional argument will be `data`, and passing other arguments without an explicit keyword will result in an error or misinterpretation.\n",
      "  warnings.warn(\n"
     ]
    },
    {
     "output_type": "execute_result",
     "data": {
      "text/plain": [
       "<AxesSubplot:xlabel='Class', ylabel='count'>"
      ]
     },
     "metadata": {},
     "execution_count": 31
    },
    {
     "output_type": "display_data",
     "data": {
      "image/png": "[encoded data removed]",
      "text/plain": [
       "<Figure size 432x288 with 1 Axes>"
      ]
     },
     "metadata": {
      "needs_background": "light"
     }
    }
   ],
   "metadata": {}
  },
  {
   "cell_type": "code",
   "execution_count": 20,
   "source": [
    "# text = data['Text']\r\n",
    "# label = data['Class']"
   ],
   "outputs": [],
   "metadata": {}
  },
  {
   "cell_type": "code",
   "execution_count": null,
   "source": [
    "# from sklearn.model_selection import train_test_split\r\n",
    "\r\n",
    "# x_train, x_test, y_train, y_test = train_test_split(text, label, random_state=42)\r\n",
    "# print(len(x_train), len(y_train))\r\n",
    "# print(len(x_test), len(y_test))"
   ],
   "outputs": [],
   "metadata": {}
  },
  {
   "cell_type": "code",
   "execution_count": 32,
   "source": [
    "x_train = train['Text']\r\n",
    "y_train = train['Class']\r\n",
    "x_test = test['Text']\r\n",
    "y_test = test['Class']\r\n",
    "\r\n",
    "print(len(x_train), len(y_train))\r\n",
    "print(len(x_test), len(y_test))"
   ],
   "outputs": [
    {
     "output_type": "stream",
     "name": "stdout",
     "text": [
      "76205 76205\n",
      "10604 10604\n"
     ]
    }
   ],
   "metadata": {}
  },
  {
   "cell_type": "code",
   "execution_count": null,
   "source": [
    "from sklearn.feature_extraction.text import CountVectorizer\r\n",
    "\r\n",
    "count = CountVectorizer(stop_words='english', ngram_range=(1,5))\r\n",
    "x_train_vectorizer=count.fit_transform((x_train).values.astype('str'))\r\n"
   ],
   "outputs": [],
   "metadata": {}
  },
  {
   "cell_type": "code",
   "execution_count": null,
   "source": [
    "x_test_vectorizer=count.transform(x_test.values.astype('str'))\r\n",
    "# x_train_vectorizer.toarray()"
   ],
   "outputs": [],
   "metadata": {}
  },
  {
   "cell_type": "code",
   "execution_count": null,
   "source": [
    "count.vocabulary_"
   ],
   "outputs": [],
   "metadata": {}
  },
  {
   "cell_type": "code",
   "execution_count": null,
   "source": [
    "from sklearn.feature_extraction.text import TfidfTransformer\r\n",
    "tfidf = TfidfTransformer()\r\n",
    "x_train_tfidf = tfidf.fit_transform(x_train_vectorizer)\r\n",
    "\r\n",
    "# x_train_tfidf.toarray()\r\n",
    "x_test_tfidf = tfidf.transform(x_test_vectorizer)"
   ],
   "outputs": [],
   "metadata": {}
  },
  {
   "cell_type": "code",
   "execution_count": null,
   "source": [
    "from sklearn.naive_bayes import MultinomialNB\r\n",
    "from sklearn.metrics import classification_report\r\n",
    "from sklearn.metrics import confusion_matrix"
   ],
   "outputs": [],
   "metadata": {}
  },
  {
   "cell_type": "code",
   "execution_count": null,
   "source": [
    "model_vectorizer= MultinomialNB().fit(x_train_vectorizer, y_train)\r\n",
    "prediction_vectorizer=model_vectorizer.predict(x_test_vectorizer)\r\n",
    "print(confusion_matrix(y_test,prediction_vectorizer))\r\n",
    "print (classification_report(y_test, prediction_vectorizer))"
   ],
   "outputs": [],
   "metadata": {}
  },
  {
   "cell_type": "code",
   "execution_count": null,
   "source": [
    "model_tfidf= MultinomialNB().fit(x_train_tfidf, y_train)\r\n",
    "prediction_tfidf=model_tfidf.predict(x_test_tfidf)\r\n",
    "print (classification_report(y_test, prediction_tfidf))\r\n",
    "print(confusion_matrix(y_test,prediction_tfidf))"
   ],
   "outputs": [],
   "metadata": {}
  },
  {
   "cell_type": "code",
   "execution_count": null,
   "source": [
    "import xgboost as xgb\r\n",
    "xgb_model=xgb.XGBClassifier(\r\n",
    "        learning_rate=0.1,\r\n",
    "        max_depth=7,\r\n",
    "        n_estimators=80,\r\n",
    "        use_label_encoder=True,\r\n",
    "        eval_metric='auc')"
   ],
   "outputs": [],
   "metadata": {}
  },
  {
   "cell_type": "code",
   "execution_count": null,
   "source": [
    "xgb_model_vectorizer = xgb_model.fit(x_train_vectorizer, y_train)\r\n",
    "xgb_predictions_vectorizer=xgb_model_vectorizer.predict(x_test_vectorizer)\r\n",
    "print(confusion_matrix(y_test,xgb_predictions_vectorizer))\r\n",
    "print (classification_report(y_test, xgb_predictions_vectorizer))"
   ],
   "outputs": [],
   "metadata": {}
  },
  {
   "cell_type": "code",
   "execution_count": null,
   "source": [
    "xgb_model = xgb_model.fit(x_train_tfidf, y_train)\r\n",
    "xgb_predictions=xgb_model.predict(x_test_tfidf)\r\n",
    "print(confusion_matrix(y_test,xgb_predictions))\r\n",
    "print (classification_report(y_test, xgb_predictions))"
   ],
   "outputs": [],
   "metadata": {}
  },
  {
   "cell_type": "code",
   "execution_count": 33,
   "source": [
    "# SVM\r\n",
    "from sklearn.linear_model import SGDClassifier\r\n",
    "from sklearn.feature_extraction.text import CountVectorizer\r\n",
    "from sklearn.feature_extraction.text import TfidfTransformer\r\n",
    "from sklearn.pipeline import Pipeline\r\n",
    "text_clf = Pipeline([\r\n",
    "    ('vect', CountVectorizer()),\r\n",
    "    ('tfidf', TfidfTransformer()),\r\n",
    "    ('clf', SGDClassifier(loss='hinge', penalty='l2',\r\n",
    "    alpha=1e-3, random_state=42,\r\n",
    "    max_iter=5, tol=None)),\r\n",
    "])"
   ],
   "outputs": [],
   "metadata": {}
  },
  {
   "cell_type": "code",
   "execution_count": 34,
   "source": [
    "text_clf.fit(x_train, y_train)\r\n",
    "predicted = text_clf.predict(x_test)\r\n",
    "np.mean(predicted == y_test)"
   ],
   "outputs": [
    {
     "output_type": "execute_result",
     "data": {
      "text/plain": [
       "0.7268955111278763"
      ]
     },
     "metadata": {},
     "execution_count": 34
    }
   ],
   "metadata": {}
  },
  {
   "cell_type": "code",
   "execution_count": 35,
   "source": [
    "from sklearn import metrics\r\n",
    "print(metrics.classification_report(y_test, predicted,\r\n",
    "target_names=['NOT','OFF']))\r\n",
    "\r\n",
    "metrics.confusion_matrix(y_test, predicted)\r\n",
    "\r\n"
   ],
   "outputs": [
    {
     "output_type": "stream",
     "name": "stdout",
     "text": [
      "              precision    recall  f1-score   support\n",
      "\n",
      "         NOT       0.85      0.80      0.82      8398\n",
      "         OFF       0.37      0.46      0.41      2206\n",
      "\n",
      "    accuracy                           0.73     10604\n",
      "   macro avg       0.61      0.63      0.62     10604\n",
      "weighted avg       0.75      0.73      0.74     10604\n",
      "\n"
     ]
    },
    {
     "output_type": "execute_result",
     "data": {
      "text/plain": [
       "array([[6689, 1709],\n",
       "       [1187, 1019]], dtype=int64)"
      ]
     },
     "metadata": {},
     "execution_count": 35
    }
   ],
   "metadata": {}
  },
  {
   "cell_type": "code",
   "execution_count": null,
   "source": [
    "from keras.models import Model\r\n",
    "from keras.layers import LSTM, Activation, Dense, Dropout, Input, Embedding,SpatialDropout1D\r\n",
    "from tensorflow.keras.optimizers import RMSprop\r\n",
    "from keras.preprocessing.text import Tokenizer\r\n",
    "from keras.preprocessing import sequence\r\n",
    "from tensorflow.keras.utils import to_categorical\r\n",
    "from keras.callbacks import EarlyStopping\r\n",
    "from keras.models import Sequential"
   ],
   "outputs": [],
   "metadata": {}
  },
  {
   "cell_type": "code",
   "execution_count": null,
   "source": [
    "x_train = x_train.astype('str')"
   ],
   "outputs": [],
   "metadata": {}
  },
  {
   "cell_type": "code",
   "execution_count": null,
   "source": [
    "print(x_train.dtype)"
   ],
   "outputs": [],
   "metadata": {}
  },
  {
   "cell_type": "code",
   "execution_count": null,
   "source": [
    "max_words = 50000\r\n",
    "max_len = 300\r\n",
    "tokenizer = Tokenizer(num_words=max_words)\r\n",
    "tokenizer.fit_on_texts(x_train)\r\n",
    "sequences = tokenizer.texts_to_sequences(x_train)\r\n",
    "sequences_matrix = sequence.pad_sequences(sequences,maxlen=max_len)"
   ],
   "outputs": [],
   "metadata": {}
  },
  {
   "cell_type": "code",
   "execution_count": null,
   "source": [
    "model = Sequential()\r\n",
    "model.add(Embedding(max_words, 100, input_length=max_len))\r\n",
    "model.add(SpatialDropout1D(0.2))\r\n",
    "model.add(LSTM(100, dropout=0.2, recurrent_dropout=0.2))\r\n",
    "model.add(Dense(1, activation='sigmoid'))\r\n",
    "model.summary()\r\n",
    "model.compile(loss='binary_crossentropy',optimizer=RMSprop(),metrics=['accuracy'])"
   ],
   "outputs": [],
   "metadata": {}
  },
  {
   "cell_type": "code",
   "execution_count": null,
   "source": [
    "from keras.callbacks import EarlyStopping,ModelCheckpoint\r\n",
    "\r\n",
    "stop = EarlyStopping(\r\n",
    "    monitor='val_accuracy', \r\n",
    "    mode='max',\r\n",
    "    patience=5\r\n",
    ")\r\n",
    "\r\n",
    "checkpoint= ModelCheckpoint(\r\n",
    "    filepath='./',\r\n",
    "    save_weights_only=True,\r\n",
    "    monitor='val_accuracy',\r\n",
    "    mode='max',\r\n",
    "    save_best_only=True)"
   ],
   "outputs": [],
   "metadata": {}
  },
  {
   "cell_type": "code",
   "execution_count": null,
   "source": [],
   "outputs": [],
   "metadata": {}
  },
  {
   "cell_type": "code",
   "execution_count": null,
   "source": [
    "y_train = y_train.astype('str')"
   ],
   "outputs": [],
   "metadata": {}
  },
  {
   "cell_type": "code",
   "execution_count": null,
   "source": [
    "print(y_train.dtype)"
   ],
   "outputs": [],
   "metadata": {}
  },
  {
   "cell_type": "code",
   "execution_count": null,
   "source": [
    "from sklearn import preprocessing\r\n",
    "\r\n",
    "le = preprocessing.LabelEncoder()\r\n",
    "le.fit(['OFF', 'NOT'])\r\n",
    "le.classes_\r\n",
    "y_train_encoded = le.transform(y_train)\r\n",
    "y_test_encoded = le.transform(y_test)"
   ],
   "outputs": [],
   "metadata": {}
  },
  {
   "cell_type": "code",
   "execution_count": null,
   "source": [
    "# history=model.fit(sequences_matrix,y_train_encoded,batch_size=1024,epochs=10,\r\n",
    "#           validation_split=0.2,callbacks=[stop,checkpoint])"
   ],
   "outputs": [],
   "metadata": {}
  },
  {
   "cell_type": "code",
   "execution_count": null,
   "source": [
    "x_test = x_test.astype('str')"
   ],
   "outputs": [],
   "metadata": {}
  },
  {
   "cell_type": "code",
   "execution_count": null,
   "source": [
    "test_sequences = tokenizer.texts_to_sequences(x_test)\r\n",
    "test_sequences_matrix = sequence.pad_sequences(test_sequences,maxlen=max_len)"
   ],
   "outputs": [],
   "metadata": {}
  },
  {
   "cell_type": "code",
   "execution_count": null,
   "source": [
    "# accr = model.evaluate(test_sequences_matrix,y_test_encoded)"
   ],
   "outputs": [],
   "metadata": {}
  },
  {
   "cell_type": "code",
   "execution_count": null,
   "source": [
    "# lstm_prediction=model.predict(test_sequences_matrix)"
   ],
   "outputs": [],
   "metadata": {}
  },
  {
   "cell_type": "code",
   "execution_count": null,
   "source": [
    "# lstm_pred = []\r\n",
    "# for val in lstm_prediction:\r\n",
    "#     if val >= 0.8:\r\n",
    "#         lstm_pred.append(0)\r\n",
    "#     elif val <0.8:\r\n",
    "#         lstm_pred.append(1)"
   ],
   "outputs": [],
   "metadata": {}
  },
  {
   "cell_type": "code",
   "execution_count": null,
   "source": [
    "# print(confusion_matrix(y_test_encoded,lstm_prediction))"
   ],
   "outputs": [],
   "metadata": {}
  },
  {
   "cell_type": "code",
   "execution_count": null,
   "source": [
    "# print (classification_report(y_test_encoded, lstm_prediction))"
   ],
   "outputs": [],
   "metadata": {}
  }
 ],
 "metadata": {
  "orig_nbformat": 4,
  "language_info": {
   "name": "python",
   "version": "3.9.6",
   "mimetype": "text/x-python",
   "codemirror_mode": {
    "name": "ipython",
    "version": 3
   },
   "pygments_lexer": "ipython3",
   "nbconvert_exporter": "python",
   "file_extension": ".py"
  },
  "kernelspec": {
   "name": "python3",
   "display_name": "Python 3.9.6 64-bit ('hsp': venv)"
  },
  "interpreter": {
   "hash": "d4e9bb6295ff9e4931e9608a5097b50fffdac6915fea455a24d8ada659b972b3"
  }
 },
 "nbformat": 4,
 "nbformat_minor": 2
}