{
 "cells": [
  {
   "cell_type": "code",
   "execution_count": 9,
   "source": [
    "import seaborn as sns\r\n",
    "import pandas as pd\r\n",
    "import numpy as np"
   ],
   "outputs": [],
   "metadata": {}
  },
  {
   "cell_type": "code",
   "execution_count": 10,
   "source": [
    "import re\r\n",
    "import nltk\r\n",
    "stemmer = nltk.SnowballStemmer(\"english\")\r\n",
    "from nltk.corpus import stopwords\r\n",
    "import string\r\n",
    "stopword=set(stopwords.words('english'))"
   ],
   "outputs": [],
   "metadata": {}
  },
  {
   "cell_type": "code",
   "execution_count": 11,
   "source": [
    "data = pd.read_csv(r'C:\\Users\\Tejas\\Desktop\\Capstone\\DatasetsCleaned\\UniformClasses\\Raw\\reddit.csv')"
   ],
   "outputs": [],
   "metadata": {}
  },
  {
   "cell_type": "code",
   "execution_count": 12,
   "source": [
    "data"
   ],
   "outputs": [
    {
     "output_type": "execute_result",
     "data": {
      "text/html": [
       "<div>\n",
       "<style scoped>\n",
       "    .dataframe tbody tr th:only-of-type {\n",
       "        vertical-align: middle;\n",
       "    }\n",
       "\n",
       "    .dataframe tbody tr th {\n",
       "        vertical-align: top;\n",
       "    }\n",
       "\n",
       "    .dataframe thead th {\n",
       "        text-align: right;\n",
       "    }\n",
       "</style>\n",
       "<table border=\"1\" class=\"dataframe\">\n",
       "  <thead>\n",
       "    <tr style=\"text-align: right;\">\n",
       "      <th></th>\n",
       "      <th>Text</th>\n",
       "      <th>Class</th>\n",
       "    </tr>\n",
       "  </thead>\n",
       "  <tbody>\n",
       "    <tr>\n",
       "      <th>0</th>\n",
       "      <td>1. &gt; \"y'all hear sumn?\"  by all means I live i...</td>\n",
       "      <td>OFF</td>\n",
       "    </tr>\n",
       "    <tr>\n",
       "      <th>1</th>\n",
       "      <td>1. Because the Japanese aren't retarded and kn...</td>\n",
       "      <td>OFF</td>\n",
       "    </tr>\n",
       "    <tr>\n",
       "      <th>2</th>\n",
       "      <td>1. Where in the fuck do these women get these ...</td>\n",
       "      <td>OFF</td>\n",
       "    </tr>\n",
       "    <tr>\n",
       "      <th>3</th>\n",
       "      <td>1. Listen to that wording in the \"article\" aka...</td>\n",
       "      <td>OFF</td>\n",
       "    </tr>\n",
       "    <tr>\n",
       "      <th>4</th>\n",
       "      <td>1. Hate seeing inexperienced cops work, but ma...</td>\n",
       "      <td>NOT</td>\n",
       "    </tr>\n",
       "    <tr>\n",
       "      <th>...</th>\n",
       "      <td>...</td>\n",
       "      <td>...</td>\n",
       "    </tr>\n",
       "    <tr>\n",
       "      <th>11665</th>\n",
       "      <td>5. \\t\\t\\tShe won't.  Now we have video evidenc...</td>\n",
       "      <td>NOT</td>\n",
       "    </tr>\n",
       "    <tr>\n",
       "      <th>11666</th>\n",
       "      <td>6. \\t\\t\\t\\tNo.  What if there wasnt video evid...</td>\n",
       "      <td>NOT</td>\n",
       "    </tr>\n",
       "    <tr>\n",
       "      <th>11667</th>\n",
       "      <td>7. \\t\\t\\t\\tWoman against crazy women!!! Unite!!!</td>\n",
       "      <td>NOT</td>\n",
       "    </tr>\n",
       "    <tr>\n",
       "      <th>11668</th>\n",
       "      <td>8. \\t\\tNobody should care about this woman att...</td>\n",
       "      <td>NOT</td>\n",
       "    </tr>\n",
       "    <tr>\n",
       "      <th>11669</th>\n",
       "      <td>NaN</td>\n",
       "      <td>NOT</td>\n",
       "    </tr>\n",
       "  </tbody>\n",
       "</table>\n",
       "<p>11670 rows × 2 columns</p>\n",
       "</div>"
      ],
      "text/plain": [
       "                                                    Text Class\n",
       "0      1. > \"y'all hear sumn?\"  by all means I live i...   OFF\n",
       "1      1. Because the Japanese aren't retarded and kn...   OFF\n",
       "2      1. Where in the fuck do these women get these ...   OFF\n",
       "3      1. Listen to that wording in the \"article\" aka...   OFF\n",
       "4      1. Hate seeing inexperienced cops work, but ma...   NOT\n",
       "...                                                  ...   ...\n",
       "11665  5. \\t\\t\\tShe won't.  Now we have video evidenc...   NOT\n",
       "11666  6. \\t\\t\\t\\tNo.  What if there wasnt video evid...   NOT\n",
       "11667   7. \\t\\t\\t\\tWoman against crazy women!!! Unite!!!   NOT\n",
       "11668  8. \\t\\tNobody should care about this woman att...   NOT\n",
       "11669                                                NaN   NOT\n",
       "\n",
       "[11670 rows x 2 columns]"
      ]
     },
     "metadata": {},
     "execution_count": 12
    }
   ],
   "metadata": {}
  },
  {
   "cell_type": "code",
   "execution_count": 13,
   "source": [
    "def clean_text(text):\r\n",
    "    text = str(text).lower()\r\n",
    "    text = re.sub('\\[.*?\\]', '', text)\r\n",
    "    text = re.sub('https?://\\S+|www\\.\\S+', '', text)\r\n",
    "    text = re.sub('<.*?>+', '', text)\r\n",
    "    text = re.sub('[%s]' % re.escape(string.punctuation), '', text)\r\n",
    "    text = re.sub('\\n', '', text)\r\n",
    "    text = re.sub('\\w*\\d\\w*', '', text)\r\n",
    "    text = [word for word in text.split(' ') if word not in stopword]\r\n",
    "    text=\" \".join(text)\r\n",
    "    text = [stemmer.stem(word) for word in text.split(' ')]\r\n",
    "    text=\" \".join(text)\r\n",
    "    return text"
   ],
   "outputs": [],
   "metadata": {}
  },
  {
   "cell_type": "code",
   "execution_count": 14,
   "source": [
    "data['Text']=data['Text'].apply(clean_text)"
   ],
   "outputs": [],
   "metadata": {}
  },
  {
   "cell_type": "code",
   "execution_count": 15,
   "source": [
    "data"
   ],
   "outputs": [
    {
     "output_type": "execute_result",
     "data": {
      "text/html": [
       "<div>\n",
       "<style scoped>\n",
       "    .dataframe tbody tr th:only-of-type {\n",
       "        vertical-align: middle;\n",
       "    }\n",
       "\n",
       "    .dataframe tbody tr th {\n",
       "        vertical-align: top;\n",
       "    }\n",
       "\n",
       "    .dataframe thead th {\n",
       "        text-align: right;\n",
       "    }\n",
       "</style>\n",
       "<table border=\"1\" class=\"dataframe\">\n",
       "  <thead>\n",
       "    <tr style=\"text-align: right;\">\n",
       "      <th></th>\n",
       "      <th>Text</th>\n",
       "      <th>Class</th>\n",
       "    </tr>\n",
       "  </thead>\n",
       "  <tbody>\n",
       "    <tr>\n",
       "      <th>0</th>\n",
       "      <td>yall hear sumn  mean live small town rn work...</td>\n",
       "      <td>OFF</td>\n",
       "    </tr>\n",
       "    <tr>\n",
       "      <th>1</th>\n",
       "      <td>japanes arent retard know fiction charact are...</td>\n",
       "      <td>OFF</td>\n",
       "    </tr>\n",
       "    <tr>\n",
       "      <th>2</th>\n",
       "      <td>fuck women get entitl attitud  deserv everyth...</td>\n",
       "      <td>OFF</td>\n",
       "    </tr>\n",
       "    <tr>\n",
       "      <th>3</th>\n",
       "      <td>listen word articl aka hit piec entir word wa...</td>\n",
       "      <td>OFF</td>\n",
       "    </tr>\n",
       "    <tr>\n",
       "      <th>4</th>\n",
       "      <td>hate see inexperienc cop work man love watch ...</td>\n",
       "      <td>NOT</td>\n",
       "    </tr>\n",
       "    <tr>\n",
       "      <th>...</th>\n",
       "      <td>...</td>\n",
       "      <td>...</td>\n",
       "    </tr>\n",
       "    <tr>\n",
       "      <th>11665</th>\n",
       "      <td>\\t\\t\\tshe wont  video evid shes crazi  yall n...</td>\n",
       "      <td>NOT</td>\n",
       "    </tr>\n",
       "    <tr>\n",
       "      <th>11666</th>\n",
       "      <td>\\t\\t\\t\\tno  wasnt video evid famili poor kid ...</td>\n",
       "      <td>NOT</td>\n",
       "    </tr>\n",
       "    <tr>\n",
       "      <th>11667</th>\n",
       "      <td>\\t\\t\\t\\twoman crazi women unit</td>\n",
       "      <td>NOT</td>\n",
       "    </tr>\n",
       "    <tr>\n",
       "      <th>11668</th>\n",
       "      <td>\\t\\tnobodi care woman attempt destroy life ch...</td>\n",
       "      <td>NOT</td>\n",
       "    </tr>\n",
       "    <tr>\n",
       "      <th>11669</th>\n",
       "      <td>nan</td>\n",
       "      <td>NOT</td>\n",
       "    </tr>\n",
       "  </tbody>\n",
       "</table>\n",
       "<p>11670 rows × 2 columns</p>\n",
       "</div>"
      ],
      "text/plain": [
       "                                                    Text Class\n",
       "0        yall hear sumn  mean live small town rn work...   OFF\n",
       "1       japanes arent retard know fiction charact are...   OFF\n",
       "2       fuck women get entitl attitud  deserv everyth...   OFF\n",
       "3       listen word articl aka hit piec entir word wa...   OFF\n",
       "4       hate see inexperienc cop work man love watch ...   NOT\n",
       "...                                                  ...   ...\n",
       "11665   \\t\\t\\tshe wont  video evid shes crazi  yall n...   NOT\n",
       "11666   \\t\\t\\t\\tno  wasnt video evid famili poor kid ...   NOT\n",
       "11667                     \\t\\t\\t\\twoman crazi women unit   NOT\n",
       "11668   \\t\\tnobodi care woman attempt destroy life ch...   NOT\n",
       "11669                                                nan   NOT\n",
       "\n",
       "[11670 rows x 2 columns]"
      ]
     },
     "metadata": {},
     "execution_count": 15
    }
   ],
   "metadata": {}
  },
  {
   "cell_type": "code",
   "execution_count": 16,
   "source": [
    "data.to_csv(r\"C:\\Users\\Tejas\\Desktop\\Capstone\\DatasetsCleaned\\UniformClasses\\Clean\\reddit.csv\")"
   ],
   "outputs": [],
   "metadata": {}
  }
 ],
 "metadata": {
  "orig_nbformat": 4,
  "language_info": {
   "name": "python",
   "version": "3.9.6",
   "mimetype": "text/x-python",
   "codemirror_mode": {
    "name": "ipython",
    "version": 3
   },
   "pygments_lexer": "ipython3",
   "nbconvert_exporter": "python",
   "file_extension": ".py"
  },
  "kernelspec": {
   "name": "python3",
   "display_name": "Python 3.9.6 64-bit ('hsp': venv)"
  },
  "interpreter": {
   "hash": "d4e9bb6295ff9e4931e9608a5097b50fffdac6915fea455a24d8ada659b972b3"
  }
 },
 "nbformat": 4,
 "nbformat_minor": 2
}