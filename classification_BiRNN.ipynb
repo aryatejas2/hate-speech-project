{
 "cells": [
  {
   "cell_type": "code",
   "execution_count": 1,
   "metadata": {},
   "outputs": [],
   "source": [
    "import pandas as pd\n",
    "import numpy as np\n",
    "from sklearn.preprocessing import LabelEncoder\n",
    "from sklearn.model_selection import train_test_split\n",
    "import matplotlib.pyplot as plt"
   ]
  },
  {
   "cell_type": "code",
   "execution_count": 2,
   "metadata": {},
   "outputs": [],
   "source": [
    "from keras.layers import Dropout, Dense, GRU, Embedding, LSTM, Bidirectional, TimeDistributed, Flatten\n",
    "from keras.models import Sequential\n",
    "from sklearn.feature_extraction.text import TfidfVectorizer\n",
    "from sklearn.metrics import matthews_corrcoef, confusion_matrix\n",
    "from sklearn import metrics\n",
    "from sklearn.utils import shuffle\n",
    "from keras.preprocessing.text import Tokenizer\n",
    "from keras.preprocessing.sequence import pad_sequences\n",
    "import warnings\n",
    "import logging\n",
    "logging.basicConfig(level=logging.INFO)"
   ]
  },
  {
   "cell_type": "code",
   "execution_count": 3,
   "metadata": {},
   "outputs": [],
   "source": [
    "def loadData_Tokenizer(X_train, X_test,MAX_NB_WORDS=75000,MAX_SEQUENCE_LENGTH=500):\n",
    "    np.random.seed(7)\n",
    "    text = np.concatenate((X_train, X_test), axis=0).astype(\"str\")\n",
    "    text = np.array(text)\n",
    "    tokenizer = Tokenizer(num_words=MAX_NB_WORDS)\n",
    "    tokenizer.fit_on_texts(text)\n",
    "    sequences = tokenizer.texts_to_sequences(text)\n",
    "    word_index = tokenizer.word_index\n",
    "    text = pad_sequences(sequences, maxlen=MAX_SEQUENCE_LENGTH)\n",
    "    print('Found %s unique tokens.' % len(word_index))\n",
    "    indices = np.arange(text.shape[0])\n",
    "    # np.random.shuffle(indices)\n",
    "    text = text[indices]\n",
    "    print(text.shape)\n",
    "    X_train = text[0:len(X_train), ]\n",
    "    X_test = text[len(X_train):, ]\n",
    "    embeddings_index = {}\n",
    "    f = open(r\"C:\\Users\\Tejas\\Desktop\\Capstone\\hate-speech-project\\glove.6B.50d.txt\", encoding=\"utf8\")\n",
    "    for line in f:\n",
    "        values = line.split()\n",
    "        word = values[0]\n",
    "        try:\n",
    "            coefs = np.asarray(values[1:], dtype='float32')\n",
    "        except:\n",
    "            pass\n",
    "        embeddings_index[word] = coefs\n",
    "    f.close()\n",
    "    print('Total %s word vectors.' % len(embeddings_index))\n",
    "    return (X_train, X_test, word_index,embeddings_index)"
   ]
  },
  {
   "cell_type": "code",
   "execution_count": 46,
   "metadata": {},
   "outputs": [],
   "source": [
    "def Build_Model_RNN_Text(word_index, embeddings_index, nclasses,  MAX_SEQUENCE_LENGTH=500, EMBEDDING_DIM=50, dropout=0.5):\n",
    "    \"\"\"\n",
    "    def buildModel_RNN(word_index, embeddings_index, nclasses,  MAX_SEQUENCE_LENGTH=500, EMBEDDING_DIM=50, dropout=0.5):\n",
    "    word_index in word index ,\n",
    "    embeddings_index is embeddings index, look at data_helper.py\n",
    "    nClasses is number of classes,\n",
    "    MAX_SEQUENCE_LENGTH is maximum lenght of text sequences\n",
    "    \"\"\"\n",
    "    model = Sequential()\n",
    "    hidden_layer = 3\n",
    "    lstm_node = 32\n",
    "    embedding_matrix = np.random.random((len(word_index) + 1, EMBEDDING_DIM))\n",
    "    for word, i in word_index.items():\n",
    "        embedding_vector = embeddings_index.get(word)\n",
    "        if embedding_vector is not None:\n",
    "            # words not found in embedding index will be all-zeros.\n",
    "            if len(embedding_matrix[i]) != len(embedding_vector):\n",
    "                print(\"could not broadcast input array from shape\", str(len(embedding_matrix[i])),\n",
    "                      \"into shape\", str(len(embedding_vector)), \" Please make sure your\"\n",
    "                                                                \" EMBEDDING_DIM is equal to embedding_vector file ,GloVe,\")\n",
    "                exit(1)\n",
    "            embedding_matrix[i] = embedding_vector\n",
    "    model.add(Embedding(len(word_index) + 1,\n",
    "                                EMBEDDING_DIM,\n",
    "                                weights=[embedding_matrix],\n",
    "                                input_length=MAX_SEQUENCE_LENGTH,\n",
    "                                trainable=True))\n",
    "    print(lstm_node)\n",
    "    for i in range(0,hidden_layer):\n",
    "        model.add(Bidirectional(LSTM(lstm_node,return_sequences=True, recurrent_dropout=0.2)))\n",
    "        model.add(Dropout(dropout))\n",
    "    model.add(Bidirectional(LSTM(lstm_node, recurrent_dropout=0.2)))\n",
    "    model.add(Dropout(dropout))\n",
    "    #model.add(TimeDistributed(Dense(256)))\n",
    "    #model.add(Flatten())\n",
    "    model.add(Dense(256, activation='relu'))\n",
    "    model.add(Dense(nclasses, activation='softmax'))\n",
    "    model.compile(loss='sparse_categorical_crossentropy',\n",
    "                      optimizer='adam',\n",
    "                      metrics=['accuracy'])\n",
    "    return model"
   ]
  },
  {
   "cell_type": "code",
   "execution_count": 47,
   "metadata": {},
   "outputs": [],
   "source": [
    "def experiment(train_df, test_df):\n",
    "  print(\"Running Experiment ... \")\n",
    "  X_train = train_df.Text\n",
    "  y_train = train_df.label.astype(np.float32)\n",
    "\n",
    "  X_test = test_df.Text\n",
    "  y_test = test_df.label.astype(np.float32)\n",
    "  # X_train, X_test, y_train, y_test = train_test_split(X, y, test_size = 0.2)\n",
    "  print(\"Generating Glove ...\")\n",
    "  X_train_Glove,X_test_Glove, word_index,embeddings_index = loadData_Tokenizer(X_train,X_test)\n",
    "  with warnings.catch_warnings():\n",
    "    print(\"Building Model ...\")\n",
    "    model_RNN = Build_Model_RNN_Text(word_index,embeddings_index, 2)\n",
    "    model_RNN.summary()\n",
    "    print(\"\\n Starting Training ... \\n\")\n",
    "    history = model_RNN.fit(X_train_Glove, y_train,\n",
    "                              validation_data=(X_test_Glove, y_test),\n",
    "                              epochs=7,\n",
    "                              batch_size=128,\n",
    "                              verbose=1)\n",
    "    warnings.simplefilter(\"ignore\")\n",
    "  print(\"\\n Plotting results ... \\n\")\n",
    "  plot_graphs(history, 'accuracy')\n",
    "  plot_graphs(history, 'loss')\n",
    "  print(\"\\n Evaluating Model ... \\n\")\n",
    "  predicted = model_RNN.predict(X_test_Glove)\n",
    "  #print(predicted)\n",
    "  print(\"YTEST\")\n",
    "  print(y_test[-20:-10])\n",
    "  print(\"PREDICTED\")\n",
    "  \n",
    "  print(predicted[-20:-10])\n",
    "  binary_predictions = []\n",
    "\n",
    "  for val in predicted:\n",
    "    if val[0] >= 0.5:\n",
    "      binary_predictions.append(0.0)\n",
    "    elif val[0] < 0.5:\n",
    "      binary_predictions.append(1.0)\n",
    "\n",
    "  print(metrics.classification_report(y_test, binary_predictions))\n",
    "  print(\"\\n\")\n",
    "  logger = logging.getLogger(\"logger\")\n",
    "  result = compute_metrics(y_test, binary_predictions)\n",
    "  for key in (result.keys()):\n",
    "      logger.info(\"  %s = %s\", key, str(result[key]))"
   ]
  },
  {
   "cell_type": "code",
   "execution_count": 37,
   "metadata": {},
   "outputs": [],
   "source": [
    "def get_eval_report(labels, preds):\n",
    "    mcc = matthews_corrcoef(labels, preds)\n",
    "    tn, fp, fn, tp = confusion_matrix(labels, preds).ravel()\n",
    "    precision = (tp)/(tp+fp)\n",
    "    recall = (tp)/(tp+fn)\n",
    "    f1 = (2*(precision*recall))/(precision+recall)\n",
    "    return {\n",
    "        \"mcc\": mcc,\n",
    "        \"tp\": tp,\n",
    "        \"tn\": tn,\n",
    "        \"fp\": fp,\n",
    "        \"fn\": fn,\n",
    "        \"precision\" : precision,\n",
    "        \"recall\" : recall,\n",
    "        \"F1\" : f1,\n",
    "        \"accuracy\": (tp+tn)/(tp+tn+fp+fn)\n",
    "    }\n",
    "\n",
    "def compute_metrics(labels, preds):\n",
    "    assert len(preds) == len(labels)\n",
    "    return get_eval_report(labels, preds)\n",
    "\n",
    "def plot_graphs(history, string):\n",
    "  plt.plot(history.history[string])\n",
    "  plt.plot(history.history['val_'+string], '')\n",
    "  plt.xlabel(\"Epochs\")\n",
    "  plt.ylabel(string)\n",
    "  plt.legend([string, 'val_'+string])\n",
    "  plt.show()\n",
    "\n",
    "def class_balance(df, target):\n",
    "  cls = df[target].value_counts()\n",
    "  cls.plot(kind='bar')\n",
    "  plt.show()"
   ]
  },
  {
   "cell_type": "code",
   "execution_count": 39,
   "metadata": {},
   "outputs": [],
   "source": [
    "train = pd.read_csv(r'C:\\Users\\Tejas\\Desktop\\Capstone\\DatasetsCleaned\\UniformClasses\\Clean\\davidson2017train.csv')"
   ]
  },
  {
   "cell_type": "code",
   "execution_count": 9,
   "metadata": {},
   "outputs": [],
   "source": [
    "train['label'] = ''\n",
    "\n",
    "for row in range(len(train)):\n",
    "    if train['Class'][row] == \"OFF\":\n",
    "        train['label'][row] = 1\n",
    "    else:\n",
    "        train['label'][row] = 0"
   ]
  },
  {
   "cell_type": "code",
   "execution_count": 40,
   "metadata": {},
   "outputs": [],
   "source": [
    "test = pd.read_csv(r'C:\\Users\\Tejas\\Desktop\\Capstone\\DatasetsCleaned\\UniformClasses\\Clean\\davidson2017test.csv')"
   ]
  },
  {
   "cell_type": "code",
   "execution_count": 11,
   "metadata": {},
   "outputs": [],
   "source": [
    "test['label'] = ''\n",
    "\n",
    "for row in range(len(test)):\n",
    "    if test['Class'][row] == \"OFF\":\n",
    "        test['label'][row] = 1\n",
    "    else:\n",
    "        test['label'][row] = 0"
   ]
  },
  {
   "cell_type": "code",
   "execution_count": 12,
   "metadata": {},
   "outputs": [],
   "source": [
    "train_df = shuffle(train)\n",
    "test_df = shuffle(test)"
   ]
  },
  {
   "cell_type": "code",
   "execution_count": 48,
   "metadata": {},
   "outputs": [
    {
     "name": "stdout",
     "output_type": "stream",
     "text": [
      "Running Experiment ... \n",
      "Generating Glove ...\n",
      "Found 37443 unique tokens.\n",
      "(31788, 500)\n",
      "Total 400000 word vectors.\n",
      "Building Model ...\n",
      "32\n",
      "Model: \"sequential_12\"\n",
      "_________________________________________________________________\n",
      "Layer (type)                 Output Shape              Param #   \n",
      "=================================================================\n",
      "embedding_12 (Embedding)     (None, 500, 50)           1872200   \n",
      "_________________________________________________________________\n",
      "bidirectional_24 (Bidirectio (None, 500, 64)           21248     \n",
      "_________________________________________________________________\n",
      "dropout_24 (Dropout)         (None, 500, 64)           0         \n",
      "_________________________________________________________________\n",
      "bidirectional_25 (Bidirectio (None, 500, 64)           24832     \n",
      "_________________________________________________________________\n",
      "dropout_25 (Dropout)         (None, 500, 64)           0         \n",
      "_________________________________________________________________\n",
      "bidirectional_26 (Bidirectio (None, 500, 64)           24832     \n",
      "_________________________________________________________________\n",
      "dropout_26 (Dropout)         (None, 500, 64)           0         \n",
      "_________________________________________________________________\n",
      "bidirectional_27 (Bidirectio (None, 64)                24832     \n",
      "_________________________________________________________________\n",
      "dropout_27 (Dropout)         (None, 64)                0         \n",
      "_________________________________________________________________\n",
      "dense_25 (Dense)             (None, 256)               16640     \n",
      "_________________________________________________________________\n",
      "dense_26 (Dense)             (None, 2)                 514       \n",
      "=================================================================\n",
      "Total params: 1,985,098\n",
      "Trainable params: 1,985,098\n",
      "Non-trainable params: 0\n",
      "_________________________________________________________________\n",
      "\n",
      " Starting Training ... \n",
      "\n",
      "Epoch 1/7\n",
      "194/194 [==============================] - 1891s 10s/step - loss: 0.2929 - accuracy: 0.8826 - val_loss: 0.6800 - val_accuracy: 0.6461\n",
      "Epoch 2/7\n",
      "194/194 [==============================] - 1610s 8s/step - loss: 0.1496 - accuracy: 0.9410 - val_loss: 0.8618 - val_accuracy: 0.6087\n",
      "Epoch 3/7\n",
      "194/194 [==============================] - 1689s 9s/step - loss: 0.1100 - accuracy: 0.9591 - val_loss: 0.9096 - val_accuracy: 0.6435\n",
      "Epoch 4/7\n",
      "194/194 [==============================] - 1689s 9s/step - loss: 0.0817 - accuracy: 0.9717 - val_loss: 1.0314 - val_accuracy: 0.6160\n",
      "Epoch 5/7\n",
      "194/194 [==============================] - 1648s 8s/step - loss: 0.0622 - accuracy: 0.9807 - val_loss: 1.2560 - val_accuracy: 0.5957\n",
      "Epoch 6/7\n",
      "194/194 [==============================] - 1668s 9s/step - loss: 0.0469 - accuracy: 0.9845 - val_loss: 1.4049 - val_accuracy: 0.6373\n",
      "Epoch 7/7\n",
      "194/194 [==============================] - 1674s 9s/step - loss: 0.0335 - accuracy: 0.9898 - val_loss: 1.6917 - val_accuracy: 0.6030\n",
      "\n",
      " Plotting results ... \n",
      "\n"
     ]
    },
    {
     "data": {
      "image/png": "[encoded data removed]",
      "text/plain": [
       "<Figure size 432x288 with 1 Axes>"
      ]
     },
     "metadata": {
      "needs_background": "light"
     },
     "output_type": "display_data"
    },
    {
     "data": {
      "image/png": "[encoded data removed]",
      "text/plain": [
       "<Figure size 432x288 with 1 Axes>"
      ]
     },
     "metadata": {
      "needs_background": "light"
     },
     "output_type": "display_data"
    },
    {
     "name": "stdout",
     "output_type": "stream",
     "text": [
      "\n",
      " Evaluating Model ... \n",
      "\n"
     ]
    },
    {
     "name": "stderr",
     "output_type": "stream",
     "text": [
      "INFO:logger:  mcc = 0.16293410980342846\n",
      "INFO:logger:  tp = 1300\n",
      "INFO:logger:  tn = 2924\n",
      "INFO:logger:  fp = 1532\n",
      "INFO:logger:  fn = 1249\n",
      "INFO:logger:  precision = 0.4590395480225989\n",
      "INFO:logger:  recall = 0.5100039231071009\n",
      "INFO:logger:  F1 = 0.4831815647649136\n",
      "INFO:logger:  accuracy = 0.6029978586723769\n"
     ]
    },
    {
     "name": "stdout",
     "output_type": "stream",
     "text": [
      "YTEST\n",
      "2415    0.0\n",
      "5840    1.0\n",
      "3773    0.0\n",
      "5584    1.0\n",
      "3315    0.0\n",
      "1679    0.0\n",
      "781     0.0\n",
      "6783    1.0\n",
      "2304    0.0\n",
      "391     1.0\n",
      "Name: label, dtype: float32\n",
      "PREDICTED\n",
      "[[0.06931783 0.9306822 ]\n",
      " [0.9973941  0.00260591]\n",
      " [0.01603732 0.9839627 ]\n",
      " [0.00402404 0.99597603]\n",
      " [0.9772017  0.02279834]\n",
      " [0.99346316 0.00653682]\n",
      " [0.9827016  0.01729838]\n",
      " [0.9786952  0.02130485]\n",
      " [0.12840986 0.87159014]\n",
      " [0.02147465 0.97852534]]\n",
      "              precision    recall  f1-score   support\n",
      "\n",
      "         0.0       0.70      0.66      0.68      4456\n",
      "         1.0       0.46      0.51      0.48      2549\n",
      "\n",
      "    accuracy                           0.60      7005\n",
      "   macro avg       0.58      0.58      0.58      7005\n",
      "weighted avg       0.61      0.60      0.61      7005\n",
      "\n",
      "\n",
      "\n"
     ]
    }
   ],
   "source": [
    "experiment(train_df, test_df)"
   ]
  }
 ],
 "metadata": {
  "interpreter": {
   "hash": "d4e9bb6295ff9e4931e9608a5097b50fffdac6915fea455a24d8ada659b972b3"
  },
  "kernelspec": {
   "display_name": "Python 3.9.6 64-bit ('hsp': venv)",
   "name": "python3"
  },
  "language_info": {
   "codemirror_mode": {
    "name": "ipython",
    "version": 3
   },
   "file_extension": ".py",
   "mimetype": "text/x-python",
   "name": "python",
   "nbconvert_exporter": "python",
   "pygments_lexer": "ipython3",
   "version": "3.9.6"
  },
  "orig_nbformat": 4
 },
 "nbformat": 4,
 "nbformat_minor": 2
}
